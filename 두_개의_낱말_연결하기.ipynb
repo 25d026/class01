{
  "nbformat": 4,
  "nbformat_minor": 0,
  "metadata": {
    "colab": {
      "provenance": [],
      "authorship_tag": "ABX9TyNHhWKyS72bmUfw0twYwE2f",
      "include_colab_link": true
    },
    "kernelspec": {
      "name": "python3",
      "display_name": "Python 3"
    },
    "language_info": {
      "name": "python"
    }
  },
  "cells": [
    {
      "cell_type": "markdown",
      "metadata": {
        "id": "view-in-github",
        "colab_type": "text"
      },
      "source": [
        "<a href=\"https://colab.research.google.com/github/25d026/class01/blob/main/%EB%91%90_%EA%B0%9C%EC%9D%98_%EB%82%B1%EB%A7%90_%EC%97%B0%EA%B2%B0%ED%95%98%EA%B8%B0.ipynb\" target=\"_parent\"><img src=\"https://colab.research.google.com/assets/colab-badge.svg\" alt=\"Open In Colab\"/></a>"
      ]
    },
    {
      "cell_type": "code",
      "execution_count": 1,
      "metadata": {
        "colab": {
          "base_uri": "https://localhost:8080/"
        },
        "id": "d5H6S_y-U4aU",
        "outputId": "dc417071-025a-480d-80be-5f794f6a1d3d"
      },
      "outputs": [
        {
          "output_type": "stream",
          "name": "stdout",
          "text": [
            "이름을 입력하세요: 윤하\n",
            "좋아하는 색깔을 입력하세요: 파랑\n",
            "윤하님은 파랑색을 참 좋아하시네요! 멋진 선택이에요.\n"
          ]
        }
      ],
      "source": [
        "def decorate_sentence():\n",
        "    name = input(\"이름을 입력하세요: \")\n",
        "    color = input(\"좋아하는 색깔을 입력하세요: \")\n",
        "\n",
        "    sentence = f\"{name}님은 {color}색을 참 좋아하시네요! 멋진 선택이에요.\"\n",
        "    print(sentence)\n",
        "\n",
        "decorate_sentence()\n"
      ]
    }
  ]
}
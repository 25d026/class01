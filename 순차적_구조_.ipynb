{
  "nbformat": 4,
  "nbformat_minor": 0,
  "metadata": {
    "colab": {
      "provenance": [],
      "authorship_tag": "ABX9TyPeYyXJfgPaIcQKDqsBF3VC",
      "include_colab_link": true
    },
    "kernelspec": {
      "name": "python3",
      "display_name": "Python 3"
    },
    "language_info": {
      "name": "python"
    }
  },
  "cells": [
    {
      "cell_type": "markdown",
      "metadata": {
        "id": "view-in-github",
        "colab_type": "text"
      },
      "source": [
        "<a href=\"https://colab.research.google.com/github/25d026/class01/blob/main/%EC%88%9C%EC%B0%A8%EC%A0%81_%EA%B5%AC%EC%A1%B0_.ipynb\" target=\"_parent\"><img src=\"https://colab.research.google.com/assets/colab-badge.svg\" alt=\"Open In Colab\"/></a>"
      ]
    },
    {
      "cell_type": "code",
      "execution_count": 7,
      "metadata": {
        "colab": {
          "base_uri": "https://localhost:8080/"
        },
        "id": "vyjQdixkbS40",
        "outputId": "bfe7b3e8-a398-4150-c3d5-a8c3502735ec"
      },
      "outputs": [
        {
          "output_type": "stream",
          "name": "stdout",
          "text": [
            ". . . . .\n",
            ". . . . .\n",
            ". . R . .\n",
            ". . . . .\n",
            ". . . . .\n",
            "----------\n"
          ]
        }
      ],
      "source": [
        "# prompt: 로봇이 좌표에 따라 움직이는 게임을 만들어줘.첫번째로는 위로 한칸, 두번째로 오른쪽으로 한칸, 세번째로 아래로 한칸, 마지막으로 왼쪽으로 한칸 움직이는 코드를 작성해줘. 이걸 그림으로 표현해줘.좌표가 움직일 때마다, 그림을 새로 그려줘.\n",
        "\n",
        "from IPython.display import display, clear_output\n",
        "import time\n",
        "\n",
        "def draw_grid(robot_pos, grid_size=5):\n",
        "    \"\"\"Draws a grid with the robot at the specified position.\"\"\"\n",
        "    grid = [['.' for _ in range(grid_size)] for _ in range(grid_size)]\n",
        "    r, c = robot_pos\n",
        "    if 0 <= r < grid_size and 0 <= c < grid_size:\n",
        "        grid[r][c] = 'R'\n",
        "\n",
        "    for row in grid:\n",
        "        print(\" \".join(row))\n",
        "    print(\"-\" * (grid_size * 2))\n",
        "\n",
        "# Initial robot position (row, column)\n",
        "robot_position = [2, 2] # Start in the center\n",
        "\n",
        "# Define movements: Up, Right, Down, Left\n",
        "# (change in row, change in column)\n",
        "movements = [(-1, 0), (0, 1), (1, 0), (0, -1)]\n",
        "\n",
        "# Simulate movements and redraw the grid\n",
        "for dr, dc in movements:\n",
        "    # Clear the previous output\n",
        "    clear_output(wait=True)\n",
        "\n",
        "    # Update robot position\n",
        "    robot_position[0] += dr\n",
        "    robot_position[1] += dc\n",
        "\n",
        "    # Draw the new grid\n",
        "    draw_grid(robot_position)\n",
        "\n",
        "    # Wait for a moment before the next move\n",
        "    time.sleep(1)\n",
        "\n"
      ]
    }
  ]
}
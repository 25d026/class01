{
  "nbformat": 4,
  "nbformat_minor": 0,
  "metadata": {
    "colab": {
      "provenance": [],
      "authorship_tag": "ABX9TyN9bIOponvt3QZunkR2JfIa",
      "include_colab_link": true
    },
    "kernelspec": {
      "name": "python3",
      "display_name": "Python 3"
    },
    "language_info": {
      "name": "python"
    }
  },
  "cells": [
    {
      "cell_type": "markdown",
      "metadata": {
        "id": "view-in-github",
        "colab_type": "text"
      },
      "source": [
        "<a href=\"https://colab.research.google.com/github/25d026/class01/blob/main/python%EB%AC%B8%EB%B2%95.ipynb\" target=\"_parent\"><img src=\"https://colab.research.google.com/assets/colab-badge.svg\" alt=\"Open In Colab\"/></a>"
      ]
    },
    {
      "cell_type": "markdown",
      "source": [],
      "metadata": {
        "id": "CO1q9Z_GJXxi"
      }
    },
    {
      "cell_type": "code",
      "source": [
        "# prompt: 간단한 더하기 게임 만들어줘\n",
        "\n",
        "import random\n",
        "\n",
        "def play_game():\n",
        "  num1 = random.randint(1, 50)\n",
        "  num2 = random.randint(1, 50)\n",
        "  correct_answer = num1 + num2\n",
        "\n",
        "  while True:\n",
        "    try:\n",
        "      user_answer = int(input(f\"{num1} + {num2} = ? \"))\n",
        "      if user_answer == correct_answer:\n",
        "        print(\"정답입니다!\")\n",
        "        break\n",
        "      else:\n",
        "        print(\"틀렸습니다. 다시 시도해보세요.\")\n",
        "    except ValueError:\n",
        "      print(\"숫자를 입력해주세요.\")\n",
        "\n",
        "if __name__ == \"__main__\":\n",
        "  play_game()\n"
      ],
      "metadata": {
        "colab": {
          "base_uri": "https://localhost:8080/"
        },
        "id": "tmHh0vC7bJuU",
        "outputId": "fc3a84bb-a368-4b99-f594-dc9eecc2330f"
      },
      "execution_count": 4,
      "outputs": [
        {
          "output_type": "stream",
          "name": "stdout",
          "text": [
            "10 + 42 = ? 52\n",
            "정답입니다!\n"
          ]
        }
      ]
    },
    {
      "cell_type": "code",
      "source": [
        "\n",
        "\n"
      ],
      "metadata": {
        "id": "DMdVxY-0TFWq"
      },
      "execution_count": null,
      "outputs": []
    }
  ]
}
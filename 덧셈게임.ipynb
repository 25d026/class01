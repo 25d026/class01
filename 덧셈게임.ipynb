{
  "nbformat": 4,
  "nbformat_minor": 0,
  "metadata": {
    "colab": {
      "provenance": [],
      "authorship_tag": "ABX9TyNsep7jYZ1v+HQGr/4bFkR6",
      "include_colab_link": true
    },
    "kernelspec": {
      "name": "python3",
      "display_name": "Python 3"
    },
    "language_info": {
      "name": "python"
    }
  },
  "cells": [
    {
      "cell_type": "markdown",
      "metadata": {
        "id": "view-in-github",
        "colab_type": "text"
      },
      "source": [
        "<a href=\"https://colab.research.google.com/github/25d026/class01/blob/main/%EB%8D%A7%EC%85%88%EA%B2%8C%EC%9E%84.ipynb\" target=\"_parent\"><img src=\"https://colab.research.google.com/assets/colab-badge.svg\" alt=\"Open In Colab\"/></a>"
      ]
    },
    {
      "cell_type": "code",
      "execution_count": null,
      "metadata": {
        "id": "ws3Bao38bqW5"
      },
      "outputs": [],
      "source": [
        "# prompt: 간단한 덧셈게임 만들어줘.\n",
        "\n",
        "import random\n",
        "\n",
        "def play_addition_game():\n",
        "  \"\"\"Plays a simple addition game with the user.\"\"\"\n",
        "\n",
        "  num1 = random.randint(1, 50)\n",
        "  num2 = random.randint(1, 50)\n",
        "  correct_answer = num1 + num2\n",
        "\n",
        "  while True:\n",
        "    try:\n",
        "      user_answer = int(input(f\"{num1} + {num2} = ? \"))\n",
        "      if user_answer == correct_answer:\n",
        "        print(\"정답입니다!\")\n",
        "        break\n",
        "      else:\n",
        "        print(\"틀렸습니다. 다시 시도해보세요.\")\n",
        "    except ValueError:\n",
        "      print(\"잘못된 입력입니다. 숫자를 입력해주세요.\")\n",
        "\n",
        "\n",
        "if __name__ == \"__main__\":\n",
        "  play_addition_game()\n"
      ]
    }
  ]
}